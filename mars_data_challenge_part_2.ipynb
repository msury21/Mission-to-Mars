{
 "cells": [
  {
   "cell_type": "code",
   "execution_count": 1,
   "id": "daaa1948",
   "metadata": {},
   "outputs": [],
   "source": [
    "#dependencies i love dependencies\n",
    "from splinter import Browser\n",
    "from bs4 import BeautifulSoup as soup\n",
    "from webdriver_manager.chrome import ChromeDriverManager\n",
    "import pandas as pd\n",
    "import matplotlib.pyplot as plt"
   ]
  },
  {
   "cell_type": "code",
   "execution_count": 2,
   "id": "5f2e1e38",
   "metadata": {},
   "outputs": [],
   "source": [
    "# Set up Splinter\n",
    "executable_path = {'executable_path': ChromeDriverManager().install()}\n",
    "browser = Browser('chrome', **executable_path, headless=False)"
   ]
  },
  {
   "cell_type": "code",
   "execution_count": 5,
   "id": "72db0156",
   "metadata": {},
   "outputs": [],
   "source": [
    "# Visit the Mars Temperature Data site\n",
    "url = 'https://data-class-mars-challenge.s3.amazonaws.com/Mars/index.html'\n",
    "browser.visit(url)"
   ]
  },
  {
   "cell_type": "code",
   "execution_count": 23,
   "id": "bef1cbc2",
   "metadata": {},
   "outputs": [],
   "source": [
    "#parse it\n",
    "html = browser.html\n",
    "html_soup = soup(html, 'html.parser')"
   ]
  },
  {
   "cell_type": "code",
   "execution_count": 56,
   "id": "c8bd405a",
   "metadata": {},
   "outputs": [],
   "source": [
    "table = html_soup.find('table', class_='table')"
   ]
  },
  {
   "cell_type": "code",
   "execution_count": 157,
   "id": "ee44d6ff",
   "metadata": {},
   "outputs": [],
   "source": [
    "#get the headers\n",
    "header_row = table.find('tr').find_all('th')\n",
    "headers = []\n",
    "for header in header_row:\n",
    "    headers.append(header.text)"
   ]
  },
  {
   "cell_type": "code",
   "execution_count": 158,
   "id": "d229fdb7",
   "metadata": {},
   "outputs": [],
   "source": [
    "#get data put it in dataframe\n",
    "df = pd.DataFrame()\n",
    "mars_data = {}\n",
    "rows = table.find_all('tr', class_='data-row')\n",
    "for row in rows:\n",
    "    row_data = row.find_all('td')\n",
    "    for i in range(len(headers)):\n",
    "        mars_data[headers[i]] = row_data[i].text\n",
    "    df = df.append(mars_data,ignore_index=True)"
   ]
  },
  {
   "cell_type": "code",
   "execution_count": 161,
   "id": "009ce678",
   "metadata": {},
   "outputs": [
    {
     "data": {
      "text/plain": [
       "id                  object\n",
       "terrestrial_date    object\n",
       "sol                 object\n",
       "ls                  object\n",
       "month               object\n",
       "min_temp            object\n",
       "pressure            object\n",
       "dtype: object"
      ]
     },
     "execution_count": 161,
     "metadata": {},
     "output_type": "execute_result"
    }
   ],
   "source": [
    "#check types\n",
    "df.dtypes"
   ]
  },
  {
   "cell_type": "code",
   "execution_count": 162,
   "id": "0272822a",
   "metadata": {},
   "outputs": [],
   "source": [
    "#convert types\n",
    "df['terrestrial_date']= pd.to_datetime(df['terrestrial_date'])\n",
    "df['id'] = df['id'].astype('int')\n",
    "df['sol'] = df['sol'].astype('int')\n",
    "df['ls'] = df['ls'].astype('int')\n",
    "df['month'] = df['month'].astype('int')\n",
    "df['min_temp'] = df['min_temp'].astype('float')\n",
    "df['pressure'] = df['pressure'].astype('float')"
   ]
  },
  {
   "cell_type": "code",
   "execution_count": 163,
   "id": "a0b7ea85",
   "metadata": {},
   "outputs": [
    {
     "data": {
      "text/plain": [
       "id                           int32\n",
       "terrestrial_date    datetime64[ns]\n",
       "sol                          int32\n",
       "ls                           int32\n",
       "month                        int32\n",
       "min_temp                   float64\n",
       "pressure                   float64\n",
       "dtype: object"
      ]
     },
     "execution_count": 163,
     "metadata": {},
     "output_type": "execute_result"
    }
   ],
   "source": [
    "#check types\n",
    "df.dtypes"
   ]
  },
  {
   "cell_type": "code",
   "execution_count": 75,
   "id": "3ece0e56",
   "metadata": {},
   "outputs": [
    {
     "name": "stdout",
     "output_type": "stream",
     "text": [
      "The amount of months on Mars is 12.\n"
     ]
    }
   ],
   "source": [
    "print(\"The amount of months on Mars is \" + str(max(df['month'])) + \".\")"
   ]
  },
  {
   "cell_type": "code",
   "execution_count": 77,
   "id": "7eb0733a",
   "metadata": {},
   "outputs": [
    {
     "name": "stdout",
     "output_type": "stream",
     "text": [
      "The amount of Martian (and not Earth) days worth of data that exist in the scraped dataset is 1977.\n"
     ]
    }
   ],
   "source": [
    "print(\"The amount of Martian (and not Earth) days worth of data that exist in the scraped dataset is \" + str(max(df['sol'])) + \".\")"
   ]
  },
  {
   "cell_type": "code",
   "execution_count": 89,
   "id": "8af961ff",
   "metadata": {},
   "outputs": [
    {
     "data": {
      "text/plain": [
       "<AxesSubplot:xlabel='month'>"
      ]
     },
     "execution_count": 89,
     "metadata": {},
     "output_type": "execute_result"
    },
    {
     "data": {
      "image/png": "[encoded data removed]",
      "text/plain": [
       "<Figure size 432x288 with 1 Axes>"
      ]
     },
     "metadata": {
      "needs_background": "light"
     },
     "output_type": "display_data"
    }
   ],
   "source": [
    "#What are the coldest and the warmest months on Mars (at the location of Curiosity)?\n",
    "monthly_temp = df.groupby('month')['min_temp'].mean()\n",
    "monthly_temp.plot.bar()"
   ]
  },
  {
   "cell_type": "code",
   "execution_count": 91,
   "id": "a64195b9",
   "metadata": {},
   "outputs": [
    {
     "data": {
      "text/plain": [
       "<AxesSubplot:xlabel='month'>"
      ]
     },
     "execution_count": 91,
     "metadata": {},
     "output_type": "execute_result"
    },
    {
     "data": {
      "image/png": "[encoded data removed]",
      "text/plain": [
       "<Figure size 432x288 with 1 Axes>"
      ]
     },
     "metadata": {
      "needs_background": "light"
     },
     "output_type": "display_data"
    }
   ],
   "source": [
    "#Which months have the lowest and the highest atmospheric pressure on Mars?\n",
    "monthly_pressure = df.groupby('month')['pressure'].mean()\n",
    "monthly_pressure.plot.bar()"
   ]
  },
  {
   "cell_type": "code",
   "execution_count": 139,
   "id": "e724f206",
   "metadata": {},
   "outputs": [],
   "source": [
    "#to csv\n",
    "df.to_csv('mars_weather_data.csv', index=False)"
   ]
  },
  {
   "cell_type": "code",
   "execution_count": 164,
   "id": "4498d918",
   "metadata": {},
   "outputs": [],
   "source": [
    "mintemps = {}\n",
    "for i in range(len(df)):\n",
    "    if df.loc[i,'month'] == 7:\n",
    "        break\n",
    "    mintemps[df.loc[i, 'terrestrial_date'].strftime(\"%x\")] = df.loc[i, 'min_temp']\n",
    "    df.drop(labels=i, inplace=True)"
   ]
  },
  {
   "cell_type": "code",
   "execution_count": 170,
   "id": "a91ec78b",
   "metadata": {},
   "outputs": [],
   "source": [
    "df = df.reset_index(drop=True)"
   ]
  },
  {
   "cell_type": "code",
   "execution_count": 171,
   "id": "4871e8d0",
   "metadata": {},
   "outputs": [],
   "source": [
    "for i in range(len(df)):\n",
    "    if df.loc[i,'month'] == 6:\n",
    "        break\n",
    "    mintemps[df.loc[i, 'terrestrial_date'].strftime(\"%x\")] = df.loc[i, 'min_temp']"
   ]
  },
  {
   "cell_type": "code",
   "execution_count": 179,
   "id": "f06d1ce8",
   "metadata": {},
   "outputs": [
    {
     "data": {
      "text/plain": [
       "<matplotlib.collections.PathCollection at 0x203833a06c8>"
      ]
     },
     "execution_count": 179,
     "metadata": {},
     "output_type": "execute_result"
    },
    {
     "data": {
      "image/png": "[encoded data removed]",
      "text/plain": [
       "<Figure size 432x288 with 1 Axes>"
      ]
     },
     "metadata": {
      "needs_background": "light"
     },
     "output_type": "display_data"
    }
   ],
   "source": [
    "plt.scatter(mintemps.keys(),mintemps.values())"
   ]
  }
 ],
 "metadata": {
  "kernelspec": {
   "display_name": "Python 3 (ipykernel)",
   "language": "python",
   "name": "python3"
  },
  "language_info": {
   "codemirror_mode": {
    "name": "ipython",
    "version": 3
   },
   "file_extension": ".py",
   "mimetype": "text/x-python",
   "name": "python",
   "nbconvert_exporter": "python",
   "pygments_lexer": "ipython3",
   "version": "3.7.13"
  }
 },
 "nbformat": 4,
 "nbformat_minor": 5
}
